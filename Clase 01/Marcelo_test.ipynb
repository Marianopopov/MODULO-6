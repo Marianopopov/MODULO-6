{
 "cells": [
  {
   "cell_type": "code",
   "execution_count": 1,
   "metadata": {},
   "outputs": [],
   "source": [
    "import pandas as pd\n",
    "import numpy as np\n",
    "import matplotlib.pyplot as plt"
   ]
  },
  {
   "cell_type": "code",
   "execution_count": 2,
   "metadata": {},
   "outputs": [],
   "source": [
    "n = 500\n",
    "x1 = np.random.rand(n)*100\n",
    "x2 = np.random.rand(n)*100\n",
    "x3 = np.random.rand(n)*100\n",
    "y = -30*x1 + 40*x2 +70*x3+ 100 + np.random.randn(n)*100"
   ]
  },
  {
   "cell_type": "code",
   "execution_count": 3,
   "metadata": {},
   "outputs": [
    {
     "name": "stdout",
     "output_type": "stream",
     "text": [
      "34.021125687525476 59.02658063024499 53.46601756220986 5234.520111925479\n",
      "-1020.6337706257643 2361.0632252098 3742.6212293546905 5234.520111925479\n",
      "5183.050683938726 5234.520111925479\n"
     ]
    }
   ],
   "source": [
    "z=200\n",
    "print(x1[z],x2[z],x3[z],y[z])\n",
    "print(-30*x1[z],40*x2[z],70*x3[z],y[z])\n",
    "print(-30*x1[z]+40*x2[z]+70*x3[z]+100,y[z])"
   ]
  },
  {
   "cell_type": "code",
   "execution_count": 4,
   "metadata": {},
   "outputs": [
    {
     "name": "stdout",
     "output_type": "stream",
     "text": [
      "[62.34078422 46.26050019 76.98443345  5.64458208 72.73588445 69.23862422\n",
      " 75.50447079 12.31551167 74.5164934  73.86116789]\n"
     ]
    }
   ],
   "source": [
    "print(np.random.rand(10)*100)"
   ]
  },
  {
   "cell_type": "code",
   "execution_count": 5,
   "metadata": {},
   "outputs": [
    {
     "name": "stdout",
     "output_type": "stream",
     "text": [
      "[ 111.94207001 -227.09132846  -57.31283328   77.97421172   71.63988508\n",
      "  -89.87841829  -75.85425622 -158.95483136 -146.10974452 -232.4513916 ]\n"
     ]
    }
   ],
   "source": [
    "print(np.random.randn(10)*100)"
   ]
  },
  {
   "cell_type": "code",
   "execution_count": 6,
   "metadata": {},
   "outputs": [
    {
     "name": "stdout",
     "output_type": "stream",
     "text": [
      "[[94.6793816  59.76491382 25.75540173]\n",
      " [28.60938886 30.44432084 39.55433754]\n",
      " [48.88487449 64.16150022 56.3742197 ]\n",
      " ...\n",
      " [ 4.61560867 87.80970882 21.10982825]\n",
      " [13.92201006 10.6472387  68.34773876]\n",
      " [18.59392559  2.40432396 81.19244015]]\n",
      "[ 1671.31913587  3217.23149053  5153.10162112  4922.12917261\n",
      "  5681.66999638  2160.86156245  4835.08650005  6198.51771167\n",
      "  3671.604632    3910.01624667  -276.68900908  2717.49279293\n",
      "  9374.58515781  3086.01159975  5752.78893626  6742.57596539\n",
      "  1303.35668052    54.34002795  6690.64395567  5836.31226057\n",
      "  6597.0950015   4133.67241122  6060.87620045  6761.65223417\n",
      "  3178.06718543  4606.51462673  5451.68382865  5428.29271421\n",
      "  6357.94644361  5664.91909075  6521.75216381  5536.47975262\n",
      "   882.87293399  4574.72015696  5989.23689357  4618.45042396\n",
      "  5010.8910035   3050.16402799  6949.29801575  2804.50723588\n",
      "  1926.11401177  3953.29671424  3392.22965801  5596.18929914\n",
      "  7187.89569292  2445.2206204   2127.53692918  4334.59297572\n",
      "  3651.75177096  1123.98398548  5354.84690136  1739.08141122\n",
      "  5272.55087771  2965.24397761  4615.30622678  3519.12186334\n",
      "  6859.54126943   116.08314976  2604.64131266  5766.21278273\n",
      "  1822.67494935  4516.06250897  5321.47835346  6576.7962089\n",
      "  2837.7845425   -324.62030899  4314.24267732  2834.31005738\n",
      "  5223.50643053  4379.77876422  8159.0706168   7850.44217872\n",
      "  2653.17389434  5845.12801527  1222.65638212  4274.67237751\n",
      "   -19.51673241  4447.83919901  3169.52585047  6298.33544722\n",
      "   624.48903309  6150.88659422  2237.06234377  2359.42752472\n",
      "  9509.62640834  5429.30875742  4950.14358765  7154.25877159\n",
      "  5381.38769743  1989.26366665  2459.84397158  5050.15749284\n",
      "  2229.10202401  3953.96098328  5457.70004639  4500.11485145\n",
      "  1134.022369    3894.26309164  9437.8762523   -792.17226436\n",
      "  6831.57975113  2997.90762174  1725.06668605  4056.33728114\n",
      "  7071.05821509  8458.91570124  4867.76651444  3588.33387942\n",
      "  7402.08591422    33.41461363  4542.62631309  8547.6688374\n",
      "  5672.65563717  7848.26599368  1595.58562533  1172.99129137\n",
      "  5885.88241785  -172.81742027  4098.99947508  4638.74109759\n",
      "  1386.96086734  5320.15902969  4245.86087313 -1334.37733383\n",
      "  7889.31317462  4622.90892463  3610.30222677  5493.68669263\n",
      "  6690.03020177  3874.36420316  2867.75381881  -445.87696588\n",
      "  6969.84800199  5109.85480726  3014.52205201  1624.81247123\n",
      "  3448.54327301  5594.32722721  5973.02823793  6247.91776143\n",
      "  2843.91623658    80.48371698  1325.23915078  7431.72679513\n",
      "  4234.83551871  3796.65742569  6007.25752246  5719.31399706\n",
      "  7019.39706605  2955.73355718  3937.28091289  2019.63170854\n",
      "  8364.66286318  2566.67690171  4319.41149026 10496.25520647\n",
      "  4577.67961889  -256.83547111  1897.03756554  3380.35644875\n",
      "  7131.31857435  3550.91410527  4486.98636842  2014.76636189\n",
      "  2964.48008896  2498.04739234  3540.49513002  5468.67757971\n",
      "  4700.86555094  3455.50559512  -583.93359053  3090.56898319\n",
      "  6389.81775497  5272.20571459  2043.38023293  -605.02741134\n",
      "  3684.00289312  6081.95057218  9050.86170882  5291.66566941\n",
      "  3009.05892342   154.00424997  3034.49358518  6267.10178222\n",
      "  -990.78815119 -2150.5525879   7410.84394936  4168.79710779\n",
      "  6275.59934994  1376.79862819  -872.23325243  1151.52915686\n",
      "  1932.10485606  4005.65161453   412.70622351  4546.46028604\n",
      "  6360.70071727  2493.8995237   2325.01918646  4684.57996115\n",
      "  5234.52011193  2622.04377979  5048.51492746  6486.45247052\n",
      "  7626.74434761  5794.77963283  3020.04207828  3913.9032872\n",
      "  6539.01740124  2172.61969899  6076.98268507  7495.75317761\n",
      "  1428.50086402  4953.85411533  2101.0057649   5462.95685727\n",
      "  5043.4151125   5084.18463131  1745.2746574   3239.7578487\n",
      "  7887.21557682  5723.32222305  4394.71697056  4503.87648999\n",
      "  3357.1915426   2558.16749759  6223.95605713  1998.02115791\n",
      "  6074.88036656   509.97432328  4205.63146759  -817.91285794\n",
      "  1799.4926848   6537.94906321  3020.61477288  3677.35564859\n",
      "  7930.61115918  7408.29099094  7983.76468922  5522.84536982\n",
      "  4844.95434128  6461.76479106  2926.98640792  5006.61307951\n",
      "  2878.79979333  6720.33910827  3453.66567405  6090.71727276\n",
      "  3126.87030037  5771.24826753   -30.61040286  3625.31827446\n",
      "  5033.85336202  4115.94564992  4793.14172744   727.13713087\n",
      "  4562.98248542  2327.77241373  1513.93137932  3242.02868808\n",
      "   102.89818649   277.7651467   6001.4103148   6088.62093936\n",
      "   134.48169417  3474.61590183  5684.26151939  5468.78201507\n",
      "  -717.96221236  9116.43066726  6130.39552801  8333.25344787\n",
      "  4743.7034428   3900.55648     4681.10984408   786.89421261\n",
      "  3989.32696183  -293.31276442  1380.15458568  7237.89307264\n",
      "  7257.22109921  5634.9072643   2357.31247142  6350.84400424\n",
      "  3638.99654795  9286.03579066  2094.95951268  5548.52342943\n",
      "  4505.83280453  8122.58687698   913.31464781  6659.51005878\n",
      "  7293.77616091  5735.37236999 -1280.17644827  1263.16723999\n",
      "  8151.64387514   713.03885096  3147.81226062  4287.64913239\n",
      "  7669.66828458  5047.0428723   5514.91843026  3743.91755033\n",
      "  3161.20479964  5734.84883526  2989.46963586  5581.76996826\n",
      "   839.17540431  6395.38927024  5381.01167919   565.86374881\n",
      "  3649.53681395  7345.70778012  4626.69212179  7206.12776928\n",
      "  3512.33676181  4707.32012458  1039.63739688  1523.36527804\n",
      "  6881.39665933  7264.31550115  5050.51708829  3548.47478549\n",
      "  3663.78376068  2827.86333803  1774.34560928  5137.2976653\n",
      " -1030.57462328   447.7393733   5328.93987996  4585.40875595\n",
      "  4622.66098721  7824.69303938  2928.0959993  -1560.91325455\n",
      "  4573.45807369  5871.85814242  7195.48971304   930.45804869\n",
      "  6371.17245354  4920.12567032  8650.2949462   4444.22290923\n",
      "  2565.97452812  3506.94835107  3818.75712112  5064.98124899\n",
      "  4915.74995192  2086.41314525  4720.46939579  5372.02312575\n",
      "  3048.92114903  3988.58591542  6194.56484743  2231.86253825\n",
      "  5241.59776781  9909.66120988  2692.52327462  4736.88229788\n",
      "  4183.75406658  8592.74142565  3177.23747518  5914.24960194\n",
      "  6336.50362571  1876.89878193  8960.51536595  2802.01531687\n",
      "  8759.56120535  5853.03965161  4420.98415737  6715.34172395\n",
      "  6104.13033106  5448.19217435  -101.02580004  6086.80597716\n",
      "  1842.83165126  5501.7673572   4852.15606045  5595.17817451\n",
      "  5136.05564251  1937.58345103  1373.33866599  5052.78016811\n",
      "  1509.13074503  1560.27070334  7562.06033982  3590.22511896\n",
      " -1246.89243245  4223.05809854  5698.69274977  2277.60518023\n",
      "  1280.64202612  2887.49047027  2069.27453847  3078.19345639\n",
      "  5774.35913317  8470.75268481  3459.5340862   8154.05342946\n",
      "  3557.58914477  5315.48677525  5816.46834731  4340.49962085\n",
      "  7426.84719845  6468.17469053  3118.69785628  5749.02684093\n",
      "  2573.12238978  2684.20921021  3942.98242416  1042.56674113\n",
      "  -121.35059012  7156.82481868  1790.86133249  6634.0881355\n",
      " -1315.88551001  3701.35747094  1960.66806769  6920.52946337\n",
      "  8363.49475654  4007.75746483  7954.65094009  5292.73580583\n",
      "  4776.69105321  3416.79031254  5919.96961567    41.76212371\n",
      "  5856.1192538    547.3419428   7415.92986509  3645.63682864\n",
      "  5509.38009177  4657.6786018   7485.20086821  6654.32904788\n",
      "  4997.39958026   837.17798701  7955.57722541  3019.58163102\n",
      "  4058.1477884   4211.2408548   3871.5449702   4124.44808171\n",
      "  4225.90775702  1003.72166699  7186.59950049  3664.70455367\n",
      "  8296.52271623  3897.78031431  4778.88285641  2240.04157234\n",
      "  8884.1296684   5089.13343434  3187.90863716   848.07334161\n",
      "  2564.73492857  6977.85920674  4437.73509603   562.91738988\n",
      "  2138.16650431  8906.70747337  8522.22268914  2564.08514408\n",
      "  5233.6256296    815.38695944  2179.09890724  2036.02177892\n",
      "  2419.51528318  8344.71856296  1082.607512    7109.67672225\n",
      "  4000.60483897  6053.34077461  7418.0640687   2288.14253847\n",
      "  1205.74160248  1179.94356036  1618.03710056  9657.39512319\n",
      "  2732.7454214   5879.96676256  2473.66174111  3219.96681765\n",
      "  5151.26099271  6949.29921515  8370.45878843  5170.01587545\n",
      "  1582.67181569  8776.69459318  8260.60910381  2316.4137925\n",
      "  1451.69884215  1110.35874072  4279.57380332  4362.92742119\n",
      "  7121.45949261  4855.89274876  4871.83430716  5260.93358201]\n",
      "(400, 3) (400,) (100, 3) (100,)\n"
     ]
    }
   ],
   "source": [
    "# Separamos nuestros datos en entrenamiento y test. X se denota con mayúscula ya que incluye dos atributos\n",
    "from sklearn.model_selection import train_test_split\n",
    "\n",
    "X = np.vstack((x1,x2,x3)).T\n",
    "\n",
    "print(X)\n",
    "print(y)\n",
    "\n",
    "X_train, X_test, y_train, y_test = train_test_split(X, y, test_size=0.20, random_state=88)\n",
    "\n",
    "print(X_train.shape, y_train.shape, X_test.shape, y_test.shape)"
   ]
  },
  {
   "cell_type": "code",
   "execution_count": 7,
   "metadata": {},
   "outputs": [
    {
     "data": {
      "text/html": [
       "<style>#sk-container-id-1 {color: black;}#sk-container-id-1 pre{padding: 0;}#sk-container-id-1 div.sk-toggleable {background-color: white;}#sk-container-id-1 label.sk-toggleable__label {cursor: pointer;display: block;width: 100%;margin-bottom: 0;padding: 0.3em;box-sizing: border-box;text-align: center;}#sk-container-id-1 label.sk-toggleable__label-arrow:before {content: \"▸\";float: left;margin-right: 0.25em;color: #696969;}#sk-container-id-1 label.sk-toggleable__label-arrow:hover:before {color: black;}#sk-container-id-1 div.sk-estimator:hover label.sk-toggleable__label-arrow:before {color: black;}#sk-container-id-1 div.sk-toggleable__content {max-height: 0;max-width: 0;overflow: hidden;text-align: left;background-color: #f0f8ff;}#sk-container-id-1 div.sk-toggleable__content pre {margin: 0.2em;color: black;border-radius: 0.25em;background-color: #f0f8ff;}#sk-container-id-1 input.sk-toggleable__control:checked~div.sk-toggleable__content {max-height: 200px;max-width: 100%;overflow: auto;}#sk-container-id-1 input.sk-toggleable__control:checked~label.sk-toggleable__label-arrow:before {content: \"▾\";}#sk-container-id-1 div.sk-estimator input.sk-toggleable__control:checked~label.sk-toggleable__label {background-color: #d4ebff;}#sk-container-id-1 div.sk-label input.sk-toggleable__control:checked~label.sk-toggleable__label {background-color: #d4ebff;}#sk-container-id-1 input.sk-hidden--visually {border: 0;clip: rect(1px 1px 1px 1px);clip: rect(1px, 1px, 1px, 1px);height: 1px;margin: -1px;overflow: hidden;padding: 0;position: absolute;width: 1px;}#sk-container-id-1 div.sk-estimator {font-family: monospace;background-color: #f0f8ff;border: 1px dotted black;border-radius: 0.25em;box-sizing: border-box;margin-bottom: 0.5em;}#sk-container-id-1 div.sk-estimator:hover {background-color: #d4ebff;}#sk-container-id-1 div.sk-parallel-item::after {content: \"\";width: 100%;border-bottom: 1px solid gray;flex-grow: 1;}#sk-container-id-1 div.sk-label:hover label.sk-toggleable__label {background-color: #d4ebff;}#sk-container-id-1 div.sk-serial::before {content: \"\";position: absolute;border-left: 1px solid gray;box-sizing: border-box;top: 0;bottom: 0;left: 50%;z-index: 0;}#sk-container-id-1 div.sk-serial {display: flex;flex-direction: column;align-items: center;background-color: white;padding-right: 0.2em;padding-left: 0.2em;position: relative;}#sk-container-id-1 div.sk-item {position: relative;z-index: 1;}#sk-container-id-1 div.sk-parallel {display: flex;align-items: stretch;justify-content: center;background-color: white;position: relative;}#sk-container-id-1 div.sk-item::before, #sk-container-id-1 div.sk-parallel-item::before {content: \"\";position: absolute;border-left: 1px solid gray;box-sizing: border-box;top: 0;bottom: 0;left: 50%;z-index: -1;}#sk-container-id-1 div.sk-parallel-item {display: flex;flex-direction: column;z-index: 1;position: relative;background-color: white;}#sk-container-id-1 div.sk-parallel-item:first-child::after {align-self: flex-end;width: 50%;}#sk-container-id-1 div.sk-parallel-item:last-child::after {align-self: flex-start;width: 50%;}#sk-container-id-1 div.sk-parallel-item:only-child::after {width: 0;}#sk-container-id-1 div.sk-dashed-wrapped {border: 1px dashed gray;margin: 0 0.4em 0.5em 0.4em;box-sizing: border-box;padding-bottom: 0.4em;background-color: white;}#sk-container-id-1 div.sk-label label {font-family: monospace;font-weight: bold;display: inline-block;line-height: 1.2em;}#sk-container-id-1 div.sk-label-container {text-align: center;}#sk-container-id-1 div.sk-container {/* jupyter's `normalize.less` sets `[hidden] { display: none; }` but bootstrap.min.css set `[hidden] { display: none !important; }` so we also need the `!important` here to be able to override the default hidden behavior on the sphinx rendered scikit-learn.org. See: https://github.com/scikit-learn/scikit-learn/issues/21755 */display: inline-block !important;position: relative;}#sk-container-id-1 div.sk-text-repr-fallback {display: none;}</style><div id=\"sk-container-id-1\" class=\"sk-top-container\"><div class=\"sk-text-repr-fallback\"><pre>LinearRegression()</pre><b>In a Jupyter environment, please rerun this cell to show the HTML representation or trust the notebook. <br />On GitHub, the HTML representation is unable to render, please try loading this page with nbviewer.org.</b></div><div class=\"sk-container\" hidden><div class=\"sk-item\"><div class=\"sk-estimator sk-toggleable\"><input class=\"sk-toggleable__control sk-hidden--visually\" id=\"sk-estimator-id-1\" type=\"checkbox\" checked><label for=\"sk-estimator-id-1\" class=\"sk-toggleable__label sk-toggleable__label-arrow\">LinearRegression</label><div class=\"sk-toggleable__content\"><pre>LinearRegression()</pre></div></div></div></div></div>"
      ],
      "text/plain": [
       "LinearRegression()"
      ]
     },
     "execution_count": 7,
     "metadata": {},
     "output_type": "execute_result"
    }
   ],
   "source": [
    "# Instanciamos nuestra regresión lineal y la entrenamos\n",
    "from sklearn.linear_model import LinearRegression\n",
    "\n",
    "linear_model = LinearRegression()\n",
    "\n",
    "linear_model.fit(X_train, y_train)"
   ]
  },
  {
   "cell_type": "code",
   "execution_count": 8,
   "metadata": {},
   "outputs": [
    {
     "name": "stdout",
     "output_type": "stream",
     "text": [
      "Las pendientes del modelo de regresión lineal son: [-29.99380891  39.88581894  69.85816544]\n",
      "La ordenada al origen del modelo de regresión lineal es: 115.69892301974232\n"
     ]
    }
   ],
   "source": [
    "# Obtenemos los componentes de nuestro regresor. A diferencia del regresor con un solo atributo, aquí tenemos dos pendientes\n",
    "\n",
    "print('Las pendientes del modelo de regresión lineal son:', linear_model.coef_)\n",
    "print('La ordenada al origen del modelo de regresión lineal es:', linear_model.intercept_)"
   ]
  },
  {
   "cell_type": "code",
   "execution_count": 9,
   "metadata": {},
   "outputs": [
    {
     "name": "stdout",
     "output_type": "stream",
     "text": [
      "Raíz del error cuadrático medio en Train: 95.85518831206033\n",
      "Raíz del error cuadrático medio en Test: 105.2370126859141\n"
     ]
    }
   ],
   "source": [
    "from sklearn.metrics import mean_squared_error\n",
    "import seaborn as sns\n",
    "\n",
    "y_train_pred = linear_model.predict(X_train)\n",
    "y_test_pred = linear_model.predict(X_test)\n",
    "\n",
    "rmse_train = np.sqrt(mean_squared_error(y_train, y_train_pred))\n",
    "rmse_test = np.sqrt(mean_squared_error(y_test, y_test_pred))\n",
    "print(f'Raíz del error cuadrático medio en Train: {rmse_train}')\n",
    "print(f'Raíz del error cuadrático medio en Test: {rmse_test}')"
   ]
  },
  {
   "cell_type": "code",
   "execution_count": 10,
   "metadata": {},
   "outputs": [],
   "source": [
    "df = pd.read_csv('data_regression.csv',  index_col=0)"
   ]
  },
  {
   "cell_type": "code",
   "execution_count": 11,
   "metadata": {},
   "outputs": [
    {
     "data": {
      "text/html": [
       "<div>\n",
       "<style scoped>\n",
       "    .dataframe tbody tr th:only-of-type {\n",
       "        vertical-align: middle;\n",
       "    }\n",
       "\n",
       "    .dataframe tbody tr th {\n",
       "        vertical-align: top;\n",
       "    }\n",
       "\n",
       "    .dataframe thead th {\n",
       "        text-align: right;\n",
       "    }\n",
       "</style>\n",
       "<table border=\"1\" class=\"dataframe\">\n",
       "  <thead>\n",
       "    <tr style=\"text-align: right;\">\n",
       "      <th></th>\n",
       "      <th>X1</th>\n",
       "      <th>X2</th>\n",
       "      <th>X3</th>\n",
       "      <th>y</th>\n",
       "    </tr>\n",
       "  </thead>\n",
       "  <tbody>\n",
       "    <tr>\n",
       "      <th>0</th>\n",
       "      <td>-10.000000</td>\n",
       "      <td>0.000000</td>\n",
       "      <td>-5.000000</td>\n",
       "      <td>10.958481</td>\n",
       "    </tr>\n",
       "    <tr>\n",
       "      <th>1</th>\n",
       "      <td>-9.986658</td>\n",
       "      <td>0.014676</td>\n",
       "      <td>-4.996664</td>\n",
       "      <td>8.991666</td>\n",
       "    </tr>\n",
       "    <tr>\n",
       "      <th>2</th>\n",
       "      <td>-9.973316</td>\n",
       "      <td>0.029353</td>\n",
       "      <td>-4.993329</td>\n",
       "      <td>10.398068</td>\n",
       "    </tr>\n",
       "    <tr>\n",
       "      <th>3</th>\n",
       "      <td>-9.959973</td>\n",
       "      <td>0.044029</td>\n",
       "      <td>-4.989993</td>\n",
       "      <td>11.759961</td>\n",
       "    </tr>\n",
       "    <tr>\n",
       "      <th>4</th>\n",
       "      <td>-9.946631</td>\n",
       "      <td>0.058706</td>\n",
       "      <td>-4.986658</td>\n",
       "      <td>10.177304</td>\n",
       "    </tr>\n",
       "    <tr>\n",
       "      <th>...</th>\n",
       "      <td>...</td>\n",
       "      <td>...</td>\n",
       "      <td>...</td>\n",
       "      <td>...</td>\n",
       "    </tr>\n",
       "    <tr>\n",
       "      <th>1495</th>\n",
       "      <td>9.946631</td>\n",
       "      <td>21.941294</td>\n",
       "      <td>-0.013342</td>\n",
       "      <td>1.208277</td>\n",
       "    </tr>\n",
       "    <tr>\n",
       "      <th>1496</th>\n",
       "      <td>9.959973</td>\n",
       "      <td>21.955971</td>\n",
       "      <td>-0.010007</td>\n",
       "      <td>1.814573</td>\n",
       "    </tr>\n",
       "    <tr>\n",
       "      <th>1497</th>\n",
       "      <td>9.973316</td>\n",
       "      <td>21.970647</td>\n",
       "      <td>-0.006671</td>\n",
       "      <td>0.791170</td>\n",
       "    </tr>\n",
       "    <tr>\n",
       "      <th>1498</th>\n",
       "      <td>9.986658</td>\n",
       "      <td>21.985324</td>\n",
       "      <td>-0.003336</td>\n",
       "      <td>1.207057</td>\n",
       "    </tr>\n",
       "    <tr>\n",
       "      <th>1499</th>\n",
       "      <td>10.000000</td>\n",
       "      <td>22.000000</td>\n",
       "      <td>0.000000</td>\n",
       "      <td>0.993813</td>\n",
       "    </tr>\n",
       "  </tbody>\n",
       "</table>\n",
       "<p>1500 rows × 4 columns</p>\n",
       "</div>"
      ],
      "text/plain": [
       "             X1         X2        X3          y\n",
       "0    -10.000000   0.000000 -5.000000  10.958481\n",
       "1     -9.986658   0.014676 -4.996664   8.991666\n",
       "2     -9.973316   0.029353 -4.993329  10.398068\n",
       "3     -9.959973   0.044029 -4.989993  11.759961\n",
       "4     -9.946631   0.058706 -4.986658  10.177304\n",
       "...         ...        ...       ...        ...\n",
       "1495   9.946631  21.941294 -0.013342   1.208277\n",
       "1496   9.959973  21.955971 -0.010007   1.814573\n",
       "1497   9.973316  21.970647 -0.006671   0.791170\n",
       "1498   9.986658  21.985324 -0.003336   1.207057\n",
       "1499  10.000000  22.000000  0.000000   0.993813\n",
       "\n",
       "[1500 rows x 4 columns]"
      ]
     },
     "execution_count": 11,
     "metadata": {},
     "output_type": "execute_result"
    }
   ],
   "source": [
    "df"
   ]
  },
  {
   "cell_type": "code",
   "execution_count": 14,
   "metadata": {},
   "outputs": [],
   "source": [
    "import pandas as pd\n",
    "import numpy as np\n",
    "import plotly.express as px\n",
    "\n",
    "n = 1500\n",
    "X1 = np.linspace(-10,10,n)\n",
    "X2 = np.linspace(0,22,n)\n",
    "X3 = np.linspace(-5,0,n)\n",
    "\n",
    "y_real = -1.5*X1 + 0.5*X2 + 2*X3 + 5\n",
    "\n",
    "linear_generator = y_real + np.random.randn(n)\n",
    "\n",
    "# pd.DataFrame({'X1': X1,'X2': X2,'X3': X3, 'y' :linear_generator}).to_csv('data_regression2.csv')"
   ]
  },
  {
   "cell_type": "code",
   "execution_count": 15,
   "metadata": {},
   "outputs": [
    {
     "data": {
      "text/plain": [
       "array([10.10306998,  9.59353388,  9.07352263, ..., -0.02316714,\n",
       "        1.84404499,  2.05835498])"
      ]
     },
     "execution_count": 15,
     "metadata": {},
     "output_type": "execute_result"
    }
   ],
   "source": [
    "linear_generator"
   ]
  }
 ],
 "metadata": {
  "kernelspec": {
   "display_name": "Python 3",
   "language": "python",
   "name": "python3"
  },
  "language_info": {
   "codemirror_mode": {
    "name": "ipython",
    "version": 3
   },
   "file_extension": ".py",
   "mimetype": "text/x-python",
   "name": "python",
   "nbconvert_exporter": "python",
   "pygments_lexer": "ipython3",
   "version": "3.10.11"
  }
 },
 "nbformat": 4,
 "nbformat_minor": 2
}
